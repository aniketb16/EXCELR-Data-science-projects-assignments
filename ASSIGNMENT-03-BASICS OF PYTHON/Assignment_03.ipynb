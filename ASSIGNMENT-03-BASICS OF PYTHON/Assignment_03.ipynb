{
  "nbformat": 4,
  "nbformat_minor": 0,
  "metadata": {
    "colab": {
      "provenance": []
    },
    "kernelspec": {
      "name": "python3",
      "display_name": "Python 3"
    },
    "language_info": {
      "name": "python"
    }
  },
  "cells": [
    {
      "cell_type": "code",
      "execution_count": null,
      "metadata": {
        "id": "G5GTkmB32jWq"
      },
      "outputs": [],
      "source": [
        "# @title Prime Numbers\n"
      ]
    },
    {
      "cell_type": "code",
      "source": [
        "x=int(input('Enter a number to check prime number')) #taking input number from user\n",
        "if x==1:   #if user input 1 giving direct answer for it\n",
        "  print(x,\"is not a prime number\")\n",
        "elif x>1: #now for input value greater than 1, creating a variable x\n",
        "  for i in range(2,x):  #defining range from 2 to inputed variable\n",
        "    if (x%i)==0:  #if the reminder comes 0, means variable is divided by number other than 1 and itself\n",
        "      print(x,\"is not a prime number\")\n",
        "      print(i,\"times\",x//i,\"is\",x) #showing additional divisor\n",
        "      break\n",
        "  else:\n",
        "    print(x,\"is a prime number\") #else the no is prime\n",
        "else:\n",
        "  print(x,\"is not a prime number\") #considering input 0 and other negative values\n"
      ],
      "metadata": {
        "colab": {
          "base_uri": "https://localhost:8080/"
        },
        "id": "QcuSUUGv2rQZ",
        "outputId": "8308bae9-9019-4c27-c789-a847586fcfe2"
      },
      "execution_count": 11,
      "outputs": [
        {
          "output_type": "stream",
          "name": "stdout",
          "text": [
            "Enter a number to check prime number-1\n",
            "-1 is not a prime number\n"
          ]
        }
      ]
    },
    {
      "cell_type": "code",
      "source": [
        "# @title Product of random numbers\n"
      ],
      "metadata": {
        "id": "I4rJHEU63KWo"
      },
      "execution_count": null,
      "outputs": []
    },
    {
      "cell_type": "code",
      "source": [
        "import random\n",
        "num1 = int(random.randint(0,100))   #giving range using randint() using random func to generate random number\n",
        "num2= int(random.randint(0,100))         #creating to variables\n",
        "print(\"your two number for finding product is:\", num1 , num2) #displaying random generated no.\n",
        "calc=int(input(\"Enter your answer\")) #taking answer as input from the user and storing it in calc\n",
        "if calc==num1*num2:      #matching the answer using if else\n",
        "  print(\"your answer is corect\")\n",
        "else:\n",
        "    print(\"your answer is wrong\")\n"
      ],
      "metadata": {
        "colab": {
          "base_uri": "https://localhost:8080/"
        },
        "id": "kqrI3M-A8Ll5",
        "outputId": "b8dc3e48-4046-4104-9f20-8bf4389e0805"
      },
      "execution_count": null,
      "outputs": [
        {
          "output_type": "stream",
          "name": "stdout",
          "text": [
            "your two number for finding product is: 26 65\n",
            "Enter your answer456\n",
            "your answer is wrong\n"
          ]
        }
      ]
    },
    {
      "cell_type": "code",
      "source": [
        "# @title Squares of Even/Odd numbers\n"
      ],
      "metadata": {
        "id": "Tgt3XRxG9oND"
      },
      "execution_count": null,
      "outputs": []
    },
    {
      "cell_type": "code",
      "source": [
        "start=100 #i choose even numbers\n",
        "end=200\n",
        "for i in range(start,end+1): #giving range\n",
        "  if i % 2==0:  #if reminder is 0 then do the sqaure\n",
        "    square=i**2\n",
        "    print(\"the square of\",{i}, \"is\", {square}) #PRINTING OUTPUT"
      ],
      "metadata": {
        "colab": {
          "base_uri": "https://localhost:8080/"
        },
        "id": "sOArCGM-_WBb",
        "outputId": "a7649a78-d671-477a-ee92-e6d98273f62e"
      },
      "execution_count": null,
      "outputs": [
        {
          "output_type": "stream",
          "name": "stdout",
          "text": [
            "the square of {100} is {10000}\n",
            "the square of {102} is {10404}\n",
            "the square of {104} is {10816}\n",
            "the square of {106} is {11236}\n",
            "the square of {108} is {11664}\n",
            "the square of {110} is {12100}\n",
            "the square of {112} is {12544}\n",
            "the square of {114} is {12996}\n",
            "the square of {116} is {13456}\n",
            "the square of {118} is {13924}\n",
            "the square of {120} is {14400}\n",
            "the square of {122} is {14884}\n",
            "the square of {124} is {15376}\n",
            "the square of {126} is {15876}\n",
            "the square of {128} is {16384}\n",
            "the square of {130} is {16900}\n",
            "the square of {132} is {17424}\n",
            "the square of {134} is {17956}\n",
            "the square of {136} is {18496}\n",
            "the square of {138} is {19044}\n",
            "the square of {140} is {19600}\n",
            "the square of {142} is {20164}\n",
            "the square of {144} is {20736}\n",
            "the square of {146} is {21316}\n",
            "the square of {148} is {21904}\n",
            "the square of {150} is {22500}\n",
            "the square of {152} is {23104}\n",
            "the square of {154} is {23716}\n",
            "the square of {156} is {24336}\n",
            "the square of {158} is {24964}\n",
            "the square of {160} is {25600}\n",
            "the square of {162} is {26244}\n",
            "the square of {164} is {26896}\n",
            "the square of {166} is {27556}\n",
            "the square of {168} is {28224}\n",
            "the square of {170} is {28900}\n",
            "the square of {172} is {29584}\n",
            "the square of {174} is {30276}\n",
            "the square of {176} is {30976}\n",
            "the square of {178} is {31684}\n",
            "the square of {180} is {32400}\n",
            "the square of {182} is {33124}\n",
            "the square of {184} is {33856}\n",
            "the square of {186} is {34596}\n",
            "the square of {188} is {35344}\n",
            "the square of {190} is {36100}\n",
            "the square of {192} is {36864}\n",
            "the square of {194} is {37636}\n",
            "the square of {196} is {38416}\n",
            "the square of {198} is {39204}\n",
            "the square of {200} is {40000}\n"
          ]
        }
      ]
    },
    {
      "cell_type": "code",
      "source": [
        "# @title Word Counter\n"
      ],
      "metadata": {
        "id": "6pCZ_UMIAdhN"
      },
      "execution_count": 1,
      "outputs": []
    },
    {
      "cell_type": "code",
      "source": [
        "def word_counter(input_text):\n",
        "    words=input_text.split()\n",
        "    word_counts={}  #now creating a dictionary to store count\n",
        "\n",
        "    for word in words:\n",
        "      if word in word_counts: #if the word is already present in dictionary,then increment its count\n",
        "        word_counts[word]+=1\n",
        "      else:\n",
        "        word_counts[word]=1 #if not then add it with a count of 1\n",
        "\n",
        "    for word,count in word_counts.items(): #printing the word count\n",
        "      print(f\"'{word}': {count}\")\n",
        "input_text=input(\"enter your text\") #taking text input from user\n",
        "word_counter(input_text)  #passing input text to word_counter"
      ],
      "metadata": {
        "colab": {
          "base_uri": "https://localhost:8080/"
        },
        "id": "UzX5iZMf6syo",
        "outputId": "576b1580-df4a-470f-b24a-34a86636a4b5"
      },
      "execution_count": 7,
      "outputs": [
        {
          "output_type": "stream",
          "name": "stdout",
          "text": [
            "enter your textthis is a sample text. this will be used to demonstrate the word counter\n",
            "'this': 2\n",
            "'is': 1\n",
            "'a': 1\n",
            "'sample': 1\n",
            "'text.': 1\n",
            "'will': 1\n",
            "'be': 1\n",
            "'used': 1\n",
            "'to': 1\n",
            "'demonstrate': 1\n",
            "'the': 1\n",
            "'word': 1\n",
            "'counter': 1\n"
          ]
        }
      ]
    },
    {
      "cell_type": "code",
      "source": [
        "# @title Palindrome\n"
      ],
      "metadata": {
        "id": "FIagOeb88N1D"
      },
      "execution_count": 8,
      "outputs": []
    },
    {
      "cell_type": "code",
      "source": [
        "def is_palindrome(input_string):\n",
        "   #removing non-alphanumeric characters and converting to lower case\n",
        "  cleaned_string=\"\".join(char.lower() for char in input_string\n",
        "                  if char.isalnum()) #this insures  ignoring spaces ,punctuation and other non alpanumeric characters\n",
        "  return cleaned_string==cleaned_string[::-1] #matching string and reverse string\n",
        "input_string=input(\"enter your string\")  #taking input of string from user\n",
        "print(is_palindrome(input_string)) #passing input string to is_palindrome function"
      ],
      "metadata": {
        "colab": {
          "base_uri": "https://localhost:8080/"
        },
        "id": "bb4G0gAy9gA0",
        "outputId": "d6cd7a70-b2ec-4096-cf09-cff54377a2c1"
      },
      "execution_count": 17,
      "outputs": [
        {
          "output_type": "stream",
          "name": "stdout",
          "text": [
            "enter your stringmalayalam\n",
            "True\n"
          ]
        }
      ]
    },
    {
      "cell_type": "code",
      "source": [],
      "metadata": {
        "id": "pQlMuNyPCG8x"
      },
      "execution_count": null,
      "outputs": []
    }
  ]
}